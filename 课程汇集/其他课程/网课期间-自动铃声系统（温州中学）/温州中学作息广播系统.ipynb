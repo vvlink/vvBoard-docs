{
 "cells": [
  {
   "cell_type": "markdown",
   "metadata": {},
   "source": [
    "# 温州中学作息广播系统（schedule版）"
   ]
  },
  {
   "cell_type": "markdown",
   "metadata": {},
   "source": [
    "## 功能描述\n",
    "\n",
    "1. 根据网课的作息时间表，自动播放铃声。\n",
    "2. 起床铃声后播报天气预报，课间播报英语听力，饭点提醒吃饭等。\n",
    "3. 播报天气预报前，会先播放提示音“叮”。\n",
    "\n",
    "**注：在“虚谷号”上部署该系统，只需要将.py代码复制到“vvBoard”的“Python”文件夹，文件名为“main.py”。**"
   ]
  },
  {
   "cell_type": "markdown",
   "metadata": {},
   "source": [
    "### 1.基础库"
   ]
  },
  {
   "cell_type": "code",
   "execution_count": 1,
   "metadata": {},
   "outputs": [],
   "source": [
    "import os,sys,time,datetime\n",
    "import requests,re\n",
    "from aip import AipSpeech\n",
    "import schedule"
   ]
  },
  {
   "cell_type": "markdown",
   "metadata": {},
   "source": [
    "### 2.获取天气的函数\n",
    "\n",
    "使用“心知天气”API，以北京为例返回的信息格式如下：\n",
    "\n",
    "{\"results\":[{\"location\":{\"id\":\"WX4FBXXFKE4F\",\"name\":\"北京\",\"country\":\"CN\",\"path\":\"北京,北京,中国\",\"timezone\":\"Asia/Shanghai\",\"timezone_offset\":\"+08:00\"},\"now\":{\"text\":\"晴\",\"code\":\"1\",\"temperature\":\"7\"},\"last_update\":\"2020-02-22T18:10:00+08:00\"}]}"
   ]
  },
  {
   "cell_type": "code",
   "execution_count": 2,
   "metadata": {},
   "outputs": [],
   "source": [
    "#获取天气预报，参数为城市的名称，如wenzhou\n",
    "def get_weather(location):\n",
    "    API='https://api.seniverse.com/v3/weather/now.json'\n",
    "    KEY='S_zw8qq3BQPUr1wMU'\n",
    "    result = requests.get(API, params={\n",
    "        'key': KEY,\n",
    "        'location': location,\n",
    "        'language': 'zh-Hans',\n",
    "        'unit': 'c'\n",
    "    }, timeout=1)\n",
    "    result=result.json()\n",
    "    r=result[\"results\"][0]\n",
    "    s1=r[\"location\"][\"name\"] #城市名称\n",
    "    s2=r[\"now\"][\"text\"] #天气信息\n",
    "    s3=r[\"now\"][\"temperature\"] #气温\n",
    "    s=s1 + '今天的天气' + s2 +'，气温'+ s3\n",
    "    return s"
   ]
  },
  {
   "cell_type": "markdown",
   "metadata": {},
   "source": [
    "### 3.获取随机英语的函数"
   ]
  },
  {
   "cell_type": "code",
   "execution_count": 3,
   "metadata": {},
   "outputs": [],
   "source": [
    "# 每天一句英语\n",
    "def getmryj():\n",
    "    urle=\"http://dict.cn\"\n",
    "    r = requests.get(urle)\n",
    "    resx=r.text\n",
    "    #得到文本内容\n",
    "    pattern = 'cleardot.gif.*\\s.*'\n",
    "    text1 = re.findall(pattern,resx)\n",
    "    pattern = '\\s\\w.*\\t'\n",
    "    text2=re.findall(pattern,text1[0])\n",
    "    #替换空格\n",
    "    text3=text2[0].replace(\"&nbsp;\",\".\")\n",
    "    #得到mp3的地址\n",
    "    pattern = 'audio=\".*\\S.mp3'\n",
    "    text1 = re.findall(pattern,resx)\n",
    "    pattern = 'http.*\\S'\n",
    "    text2 = re.findall(pattern,text1[0])\n",
    "    #替换空格\n",
    "    text4 = text2[0].replace(\"'\",\"\")\n",
    "    return text3,text4"
   ]
  },
  {
   "cell_type": "markdown",
   "metadata": {},
   "source": [
    "### 4.语音合成的函数"
   ]
  },
  {
   "cell_type": "code",
   "execution_count": 4,
   "metadata": {},
   "outputs": [],
   "source": [
    "\"\"\" 你的 APPID AK SK \"\"\"\n",
    "APP_ID = \"15126848\"\n",
    "API_KEY = \"BPaS8KCk1B6Io9EqEOw1pOH3\"\n",
    "SECRET_KEY = \"AL3B7XOmoRZojqFivCzvxuGYDDQZ7G58\"\n",
    "client = AipSpeech(APP_ID, API_KEY, SECRET_KEY)\n",
    "\n",
    "def tts(txt):\n",
    "    #播放语音之前，先播放提示音，这个文件要下载过来\n",
    "    os.system('play ding.wav')\n",
    "    time.sleep(1)\n",
    "    result = client.synthesis(txt, 'zh', 1, {'vol': 5,})\n",
    "    # 识别正确返回语音二进制 错误则返回dict 参照下面错误码\n",
    "    if not isinstance(result, dict):\n",
    "        with open('auido.mp3', 'wb') as f:\n",
    "            f.write(result)\n",
    "        os.system('play auido.mp3')\n",
    "\n",
    "#tts(\"虚谷号测试语音\")"
   ]
  },
  {
   "cell_type": "markdown",
   "metadata": {},
   "source": [
    "### 5.开始工作\n",
    "\n",
    "定时运行，根据时间来调度，使用了schedule库。\n",
    "\n",
    "**注：如果再次运行该代码，请先在“服务”处选择“重启 & 清空输出”或者“重启 & 运行所有”。**"
   ]
  },
  {
   "cell_type": "code",
   "execution_count": null,
   "metadata": {},
   "outputs": [],
   "source": [
    "# 铃声播放\n",
    "def play_wave(s):\n",
    "    ling = 'wave/'+ s +'.mp3'\n",
    "    os.system('play ' + ling)\n",
    "\n",
    "def tips(s):\n",
    "    txt = \"虚谷号提醒你\" + s\n",
    "    tts(txt)\n",
    "# 课间英语\n",
    "def learning():\n",
    "    txt = \"虚谷号英语学习时间：\"\n",
    "    s1,s2=getmryj()\n",
    "    txt = txt + s1\n",
    "    tts(txt)\n",
    "    #5秒钟后播放原英文朗读\n",
    "    time.sleep(5)\n",
    "    os.system('play ' + s2)\n",
    "# 天气预报\n",
    "def weather():\n",
    "    txt = \"虚谷号播放天气预报信息：\"\n",
    "    txt = txt + get_weather(\"wenzhou\")\n",
    "    tts(txt)\n",
    "\n",
    "# 起床\n",
    "schedule.every().day.at(\"07:00\").do(play_wave,s=\"起床\")\n",
    "schedule.every().day.at(\"07:10\").do(weather)\n",
    "schedule.every().day.at(\"07:30\").do(play_wave,s=\"早读\")\n",
    "schedule.every().day.at(\"08:00\").do(play_wave,s=\"上课\")\n",
    "schedule.every().day.at(\"09:00\").do(play_wave,s=\"下课\")\n",
    "#趣味英语\n",
    "schedule.every().day.at(\"09:10\").do(learning)\n",
    "schedule.every().day.at(\"09:20\").do(play_wave,s=\"上课\")\n",
    "schedule.every().day.at(\"10:20\").do(play_wave,s=\"下课\")\n",
    "schedule.every().day.at(\"10:40\").do(play_wave,s=\"上课\")\n",
    "schedule.every().day.at(\"11:40\").do(play_wave,s=\"下课\")\n",
    "# 午饭\n",
    "schedule.every().day.at(\"12:00\").do(tips,s=\"亲爱的主人，要吃午饭了！\")\n",
    "schedule.every().day.at(\"13:30\").do(play_wave,s=\"上课\")\n",
    "schedule.every().day.at(\"14:30\").do(play_wave,s=\"下课\")\n",
    "schedule.every().day.at(\"14:50\").do(play_wave,s=\"上课\")\n",
    "schedule.every().day.at(\"15:50\").do(play_wave,s=\"下课\")\n",
    "schedule.every().day.at(\"16:10\").do(play_wave,s=\"上课\")\n",
    "schedule.every().day.at(\"17:10\").do(play_wave,s=\"下课\")\n",
    "# 晚饭\n",
    "schedule.every().day.at(\"18:00\").do(tips,s=\"亲爱的主人，要吃晚饭了！\")\n",
    "schedule.every().day.at(\"18:10\").do(play_wave,s=\"晚饭\")\n",
    "# 晚自修\n",
    "schedule.every().day.at(\"18:30\").do(play_wave,s=\"晚读开始\")\n",
    "schedule.every().day.at(\"19:30\").do(play_wave,s=\"晚读结束\")\n",
    "schedule.every().day.at(\"19:50\").do(play_wave,s=\"上课\")\n",
    "schedule.every().day.at(\"21:30\").do(play_wave,s=\"下课\")\n",
    "# 睡觉\n",
    "schedule.every().day.at(\"22:30\").do(play_wave,s=\"就寝\")\n",
    "\n",
    "while True:\n",
    "    schedule.run_pending()\n",
    "    time.sleep(1)"
   ]
  },
  {
   "cell_type": "markdown",
   "metadata": {},
   "source": [
    "### 6.参考资料\n",
    "\n",
    "正则表达式：https://zhuanlan.zhihu.com/p/71239731\n",
    "\n",
    "Python的定时运行：https://www.jianshu.com/p/b77d934cc252\n",
    "\n",
    "树莓派+百度AI实现语音播报：https://github.com/vincen20/RaspberryPi_VOICE_V1/\n",
    "\n",
    "schedule库：https://github.com/dbader/schedule"
   ]
  },
  {
   "cell_type": "code",
   "execution_count": null,
   "metadata": {},
   "outputs": [],
   "source": []
  }
 ],
 "metadata": {
  "kernelspec": {
   "display_name": "Python 3",
   "language": "python",
   "name": "python3"
  },
  "language_info": {
   "codemirror_mode": {
    "name": "ipython",
    "version": 3
   },
   "file_extension": ".py",
   "mimetype": "text/x-python",
   "name": "python",
   "nbconvert_exporter": "python",
   "pygments_lexer": "ipython3",
   "version": "3.5.2"
  }
 },
 "nbformat": 4,
 "nbformat_minor": 2
}
